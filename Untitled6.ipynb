{
  "nbformat": 4,
  "nbformat_minor": 0,
  "metadata": {
    "colab": {
      "provenance": [],
      "authorship_tag": "ABX9TyNF0nkQ2VSirTT7td01zoyd",
      "include_colab_link": true
    },
    "kernelspec": {
      "name": "python3",
      "display_name": "Python 3"
    },
    "language_info": {
      "name": "python"
    }
  },
  "cells": [
    {
      "cell_type": "markdown",
      "metadata": {
        "id": "view-in-github",
        "colab_type": "text"
      },
      "source": [
        "<a href=\"https://colab.research.google.com/github/eshwarchow/66f3/blob/master/Untitled6.ipynb\" target=\"_parent\"><img src=\"https://colab.research.google.com/assets/colab-badge.svg\" alt=\"Open In Colab\"/></a>"
      ]
    },
    {
      "cell_type": "code",
      "execution_count": null,
      "metadata": {
        "colab": {
          "base_uri": "https://localhost:8080/"
        },
        "collapsed": true,
        "id": "7B5fWp7S6o9J",
        "outputId": "e9a16846-75b6-47e3-fbfb-493fa26ae025"
      },
      "outputs": [
        {
          "output_type": "stream",
          "name": "stdout",
          "text": [
            "<class 'str'>\n",
            "<class 'str'>\n",
            "<class 'str'>\n",
            "eshu hyd kphb\n",
            "y\n",
            "d\n",
            "in\n",
            "[0, 2, 4]\n",
            "6\n",
            "cmrit is hyd\n"
          ]
        }
      ],
      "source": [
        "#string declare\n",
        "name='eshu'\n",
        "city=\"hyd\"\n",
        "address='''kphb'''\n",
        "print(type(name))\n",
        "print(type(city))\n",
        "print(type(address))\n",
        "print(name,city,address)\n",
        "#+ve index\n",
        "print(city[1])\n",
        "#-ve index\n",
        "print(city[-1])\n",
        "#extract range of values or slice of characters\n",
        "#slice operatorcan be used when we need:\n",
        "institute_name='cmrit in hyd'\n",
        "print(institute_name[6:8])\n",
        "list1=[0,1,2,3,4,5]\n",
        "print(list1[::2])\n",
        "#find()funtion or index and we use \"r\" for reverse\n",
        "institute_name='cmrit in hyd'\n",
        "print(institute_name.find('in'))\n",
        "#replace()string handling function\n",
        "institute_name='cmrit in hyd'\n",
        "print(institute_name.replace(\"in\",\"is\"))\n",
        "\n"
      ]
    },
    {
      "cell_type": "code",
      "source": [
        "#Tuple declaration\n",
        "t1=() #empty tuple\n",
        "t2=(1122,'eshu','software','IT',9000.0)\n",
        "#use tuple fucntion to convert list as tuple\n",
        "list1=['venkat','srini','lakshmi']\n",
        "print(list1)\n",
        "t3=tuple(list1)\n",
        "print(t3)\n",
        "#access tuple elements:linear DS\n",
        "#forward index left to right\n",
        "print(t2[0])\n",
        "print(t2[1])\n",
        "#negative index\n",
        "print(t2[-1])\n",
        "print(t2[-3])\n",
        "#slice operator:range of values can be retrieved\n",
        "print(t2[2:4])\n",
        "#what operation can be application to apply on tuple\n",
        "#cancatenation between 2 tuples\n",
        "print(t2+t3)\n",
        "#count()method for string,list,tuple\n",
        "print(t2.count('eshu'))\n",
        "#index()method\n",
        "print(t2.index('software'))\n",
        "#tuple packing concept\n",
        "#assiginng an individual elements to an entity called tuple\n",
        "name='srini'\n",
        "phone='9121372701'\n",
        "location='hyd'\n",
        "t5=name,phone,location\n",
        "print(t5)\n",
        "#tuplle unpacking\n",
        "name,phone,location=t5\n",
        "print(name)\n",
        "print(phone)\n",
        "print(location)\n",
        "#List of tuples concept\n",
        "List3=[('venkat','hyd'),('srini','kphb')]\n",
        "print(List3)\n",
        "\n",
        "\n"
      ],
      "metadata": {
        "id": "n8zD5l3BB4gj",
        "colab": {
          "base_uri": "https://localhost:8080/"
        },
        "outputId": "7107a9ff-7715-4607-a867-46adf9ac647e"
      },
      "execution_count": 15,
      "outputs": [
        {
          "output_type": "stream",
          "name": "stdout",
          "text": [
            "['venkat', 'srini', 'lakshmi']\n",
            "('venkat', 'srini', 'lakshmi')\n",
            "1122\n",
            "eshu\n",
            "9000.0\n",
            "software\n",
            "('software', 'IT')\n",
            "(1122, 'eshu', 'software', 'IT', 9000.0, 'venkat', 'srini', 'lakshmi')\n",
            "1\n",
            "2\n",
            "('srini', '9121372701', 'hyd')\n",
            "srini\n",
            "9121372701\n",
            "hyd\n",
            "[('venkat', 'hyd'), ('srini', 'kphb')]\n"
          ]
        }
      ]
    },
    {
      "cell_type": "code",
      "source": [
        "#list ds\n",
        "l1=[]#empty list\n",
        "l2=[1010,'eswar',5000.0,'hyd']\n",
        "print(type(l1))\n",
        "print(l2)\n",
        "#string can be convert as list\n",
        "name=\"laxmi\"\n",
        "#justication that string as immutable and list as mutable\n",
        "l3=list(name)\n",
        "l3[2]=\"lsh\"\n",
        "\n",
        "print(l3)\n",
        "print(name)\n",
        "#forward index\n",
        "print(l2[1])\n",
        "#backward\n",
        "print(l2[-1])\n",
        "#slice\n",
        "print(l2[1:])\n",
        "#concattenation bwt two lists\n",
        "print(l2+l3)\n",
        "#write a program tp append an element in the existing list\n",
        "l2.append('9121372701')\n",
        "print(l2)\n",
        "l4=[1122,1133,1144,1155]\n",
        "l4.insert(0,1112)\n",
        "print(l4)\n",
        "#extend():it merge two lists and append all the 2nd list elements in\n",
        "l2.extend(l4)\n",
        "print(l2)\n",
        "#meta data related operatons on list\n",
        "print(len(l2))\n",
        "#nested list 2d data\n",
        "a=[[1,2,3],[4,5,6],[7,8,9]]\n",
        "print(a[0][0])\n",
        "\n"
      ],
      "metadata": {
        "id": "Swv8kFg76tbM",
        "outputId": "99b78638-36f7-489d-c35f-bcfcc08251a0",
        "colab": {
          "base_uri": "https://localhost:8080/"
        }
      },
      "execution_count": null,
      "outputs": [
        {
          "output_type": "stream",
          "name": "stdout",
          "text": [
            "<class 'list'>\n",
            "[1010, 'eswar', 5000.0, 'hyd']\n",
            "['l', 'a', 'lsh', 'm', 'i']\n",
            "laxmi\n",
            "eswar\n",
            "hyd\n",
            "['eswar', 5000.0, 'hyd']\n",
            "[1010, 'eswar', 5000.0, 'hyd', 'l', 'a', 'lsh', 'm', 'i']\n",
            "[1010, 'eswar', 5000.0, 'hyd', '9121372701']\n",
            "[1112, 1122, 1133, 1144, 1155]\n",
            "[1010, 'eswar', 5000.0, 'hyd', '9121372701', 1112, 1122, 1133, 1144, 1155]\n",
            "10\n",
            "1\n"
          ]
        }
      ]
    },
    {
      "cell_type": "markdown",
      "source": [
        "Ds:\n",
        "1.linear ds:ordered manner\n",
        "  ex:stack,linkedlist\n",
        "2.non liner ds:inordered manner\n",
        "  ex:tree,graph\n",
        "according to py,we categorize below data structure/collections:\n",
        "1.strind ds:\n",
        "           String is immutable,once it is created further can not be changed.\n",
        "2.list ds:declared in [].\n",
        "3.tuple ds:\n",
        "          tuple ds is immutable and tuple is read only data structure,once it is created further it does not allow to edit.Tuple store data in  linear fashion .it allows to acess elements using index,slice operatore methods\n",
        "          Tuple is declared with the help of () parenthesis and tuple packing and unpacking concept it folows.\n",
        "\n",
        "4.set ds:\n",
        "        it is mutable,set ds is declared with{}.empty set can be only created with builtin function set().set ds does not maintain insertion order in ds,randomly it changes its positions dymanically.index and slice not allowed and set is not allowed duplicate values.\n",
        "5.dictionary ds:\n",
        "                dictonary is mutable DS and it is declared with {} .it hlod the data in the form of key:value pairs.dict dats is resemble as Json(java script object notation data).dict never maintain insertion oder of the elements.hence index,slice operator will not work.\n"
      ],
      "metadata": {
        "id": "bwHTfwOS8otJ"
      }
    },
    {
      "cell_type": "code",
      "source": [
        "#declaration of set ds\n",
        "set1=set()\n",
        "print(type(set1))\n",
        "set2={501,'anu','ece',9000.0}\n",
        "print(set2)\n",
        "#write a python program to remove duplicate values from the list\n",
        "list2=[501,502,501]\n",
        "set3=set(list2)\n",
        "print(list2)\n",
        "print(set3)\n",
        "#operations applied on set data struct\n",
        "#union(),intersection(),difference()\n",
        "set5_cse={'eshu','anu','chinnu'}\n",
        "set6_ece={'eshu','anu','harsha'}\n",
        "print(set5_cse.union(set6_ece))\n",
        "#issubseta() funntion\n",
        "set5_cse.issubset(set6_ece)\n",
        "#issuperset() funtion\n",
        "set5_cse.issuperset(set6_ece)\n",
        "set6_ece.issuperset(set5_cse)"
      ],
      "metadata": {
        "id": "OOr9hUuegEqr",
        "outputId": "18df9cb2-e666-4452-e9d0-ee50d584fd1a",
        "colab": {
          "base_uri": "https://localhost:8080/"
        }
      },
      "execution_count": 26,
      "outputs": [
        {
          "output_type": "stream",
          "name": "stdout",
          "text": [
            "<class 'set'>\n",
            "{'ece', 9000.0, 501, 'anu'}\n",
            "[501, 502, 501]\n",
            "{501, 502}\n",
            "{'harsha', 'eshu', 'chinnu', 'anu'}\n"
          ]
        },
        {
          "output_type": "execute_result",
          "data": {
            "text/plain": [
              "False"
            ]
          },
          "metadata": {},
          "execution_count": 26
        }
      ]
    },
    {
      "cell_type": "code",
      "source": [
        "#delcaration of dictionary\n",
        "#method:empyt can be created\n",
        "dic1={}\n",
        "print(dic1)\n",
        "#method:static dictinary(key:value)\n",
        "dic2={'040':'ts','030':'chennai','020':'pune'}\n",
        "print(dic2)\n",
        "print(dic2.keys())\n",
        "print(dic2.items())#list of tuples\n",
        "#create dictinary using list if tuples\n",
        "list_of_tuples = [('155.1.1.0', 'shalaja'), ('255.1.1.1', 'ankith')]\n",
        "\n",
        "final_ip_info=dict(list_of_tuples)\n",
        "print(final_ip_info)\n",
        "print(final_ip_info.keys())\n",
        "#zip()funtion\n",
        "list8=['eshu','raj']\n",
        "list9=['chow','reddy']\n",
        "print=dict(zip(list8,list9))\n",
        "\n"
      ],
      "metadata": {
        "id": "WG8nAAQxknPK",
        "outputId": "6f90dc11-72cb-4def-d2b5-4cecf4e4ab59",
        "colab": {
          "base_uri": "https://localhost:8080/"
        }
      },
      "execution_count": 34,
      "outputs": [
        {
          "output_type": "stream",
          "name": "stdout",
          "text": [
            "{}\n",
            "{'040': 'ts', '030': 'chennai', '020': 'pune'}\n",
            "dict_keys(['040', '030', '020'])\n",
            "dict_items([('040', 'ts'), ('030', 'chennai'), ('020', 'pune')])\n",
            "{'155.1.1.0': 'shalaja', '255.1.1.1': 'ankith'}\n",
            "dict_keys(['155.1.1.0', '255.1.1.1'])\n"
          ]
        }
      ]
    },
    {
      "cell_type": "code",
      "source": [
        "list8=['eshu','raj']\n",
        "list9=['chow','reddy']\n",
        "print=dict(zip(list8,list9))\n"
      ],
      "metadata": {
        "id": "BKf795San9Yb",
        "outputId": "d7923d87-80ed-451b-9b4a-3fcef6dc06eb",
        "colab": {
          "base_uri": "https://localhost:8080/",
          "height": 176
        }
      },
      "execution_count": 36,
      "outputs": [
        {
          "output_type": "error",
          "ename": "TypeError",
          "evalue": "'dict' object is not callable",
          "traceback": [
            "\u001b[0;31m---------------------------------------------------------------------------\u001b[0m",
            "\u001b[0;31mTypeError\u001b[0m                                 Traceback (most recent call last)",
            "\u001b[0;32m<ipython-input-36-5309cfcf948b>\u001b[0m in \u001b[0;36m<cell line: 0>\u001b[0;34m()\u001b[0m\n\u001b[1;32m      2\u001b[0m \u001b[0mlist9\u001b[0m\u001b[0;34m=\u001b[0m\u001b[0;34m[\u001b[0m\u001b[0;34m'chow'\u001b[0m\u001b[0;34m,\u001b[0m\u001b[0;34m'reddy'\u001b[0m\u001b[0;34m]\u001b[0m\u001b[0;34m\u001b[0m\u001b[0;34m\u001b[0m\u001b[0m\n\u001b[1;32m      3\u001b[0m \u001b[0mprint\u001b[0m\u001b[0;34m=\u001b[0m\u001b[0mdict\u001b[0m\u001b[0;34m(\u001b[0m\u001b[0mzip\u001b[0m\u001b[0;34m(\u001b[0m\u001b[0mlist8\u001b[0m\u001b[0;34m,\u001b[0m\u001b[0mlist9\u001b[0m\u001b[0;34m)\u001b[0m\u001b[0;34m)\u001b[0m\u001b[0;34m\u001b[0m\u001b[0;34m\u001b[0m\u001b[0m\n\u001b[0;32m----> 4\u001b[0;31m \u001b[0mprint\u001b[0m\u001b[0;34m(\u001b[0m\u001b[0mlist8\u001b[0m\u001b[0;34m)\u001b[0m\u001b[0;34m\u001b[0m\u001b[0;34m\u001b[0m\u001b[0m\n\u001b[0m",
            "\u001b[0;31mTypeError\u001b[0m: 'dict' object is not callable"
          ]
        }
      ]
    },
    {
      "cell_type": "markdown",
      "source": [],
      "metadata": {
        "id": "-YFVWzskB8Zv"
      }
    }
  ]
}