{
  "nbformat": 4,
  "nbformat_minor": 0,
  "metadata": {
    "colab": {
      "provenance": [],
      "authorship_tag": "ABX9TyPe5ETNWkkAoqXwPiYcGFTa",
      "include_colab_link": true
    },
    "kernelspec": {
      "name": "python3",
      "display_name": "Python 3"
    },
    "language_info": {
      "name": "python"
    }
  },
  "cells": [
    {
      "cell_type": "markdown",
      "metadata": {
        "id": "view-in-github",
        "colab_type": "text"
      },
      "source": [
        "<a href=\"https://colab.research.google.com/github/eshwarchow/66f3/blob/master/Untitled6.ipynb\" target=\"_parent\"><img src=\"https://colab.research.google.com/assets/colab-badge.svg\" alt=\"Open In Colab\"/></a>"
      ]
    },
    {
      "cell_type": "code",
      "execution_count": 11,
      "metadata": {
        "colab": {
          "base_uri": "https://localhost:8080/"
        },
        "collapsed": true,
        "id": "7B5fWp7S6o9J",
        "outputId": "e9a16846-75b6-47e3-fbfb-493fa26ae025"
      },
      "outputs": [
        {
          "output_type": "stream",
          "name": "stdout",
          "text": [
            "<class 'str'>\n",
            "<class 'str'>\n",
            "<class 'str'>\n",
            "eshu hyd kphb\n",
            "y\n",
            "d\n",
            "in\n",
            "[0, 2, 4]\n",
            "6\n",
            "cmrit is hyd\n"
          ]
        }
      ],
      "source": [
        "#string declare\n",
        "name='eshu'\n",
        "city=\"hyd\"\n",
        "address='''kphb'''\n",
        "print(type(name))\n",
        "print(type(city))\n",
        "print(type(address))\n",
        "print(name,city,address)\n",
        "#+ve index\n",
        "print(city[1])\n",
        "#-ve index\n",
        "print(city[-1])\n",
        "#extract range of values or slice of characters\n",
        "#slice operatorcan be used when we need:\n",
        "institute_name='cmrit in hyd'\n",
        "print(institute_name[6:8])\n",
        "list1=[0,1,2,3,4,5]\n",
        "print(list1[::2])\n",
        "#find()funtion or index and we use \"r\" for reverse\n",
        "institute_name='cmrit in hyd'\n",
        "print(institute_name.find('in'))\n",
        "#replace()string handling function\n",
        "institute_name='cmrit in hyd'\n",
        "print(institute_name.replace(\"in\",\"is\"))\n",
        "\n"
      ]
    },
    {
      "cell_type": "code",
      "source": [],
      "metadata": {
        "id": "Swv8kFg76tbM"
      },
      "execution_count": null,
      "outputs": []
    },
    {
      "cell_type": "code",
      "source": [],
      "metadata": {
        "id": "n8zD5l3BB4gj"
      },
      "execution_count": null,
      "outputs": []
    },
    {
      "cell_type": "markdown",
      "source": [
        "Ds:\n",
        "1.linear ds:ordered manner\n",
        "ex:stack,linkedlist\n",
        "2.non liner ds:inordered manner\n",
        "ex:tree,graph\n",
        "according to py,we categorize below data structure/collections:\n",
        "1.strind ds: String is immutable,once it is created further can not be changed.\n",
        "2.list ds\n",
        "3.tuple ds\n",
        "4.set ds\n",
        "5.dictionary ds\n"
      ],
      "metadata": {
        "id": "bwHTfwOS8otJ"
      }
    },
    {
      "cell_type": "markdown",
      "source": [],
      "metadata": {
        "id": "-YFVWzskB8Zv"
      }
    }
  ]
}